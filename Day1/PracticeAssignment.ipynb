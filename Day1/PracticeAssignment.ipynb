{
 "cells": [
  {
   "cell_type": "markdown",
   "metadata": {},
   "source": [
    "FizzBuzz"
   ]
  },
  {
   "cell_type": "code",
   "execution_count": 1,
   "metadata": {},
   "outputs": [
    {
     "name": "stdout",
     "output_type": "stream",
     "text": [
      "1\n",
      "2\n",
      "Fizz\n",
      "4\n",
      "Buzz\n",
      "Fizz\n",
      "7\n",
      "8\n",
      "Fizz\n",
      "Buzz\n",
      "11\n",
      "Fizz\n",
      "13\n",
      "14\n",
      "FizzBuzz\n",
      "16\n",
      "17\n",
      "Fizz\n",
      "19\n",
      "Buzz\n",
      "Fizz\n",
      "22\n",
      "23\n",
      "Fizz\n",
      "Buzz\n",
      "26\n",
      "Fizz\n",
      "28\n",
      "29\n",
      "FizzBuzz\n",
      "31\n",
      "32\n",
      "Fizz\n",
      "34\n",
      "Buzz\n",
      "Fizz\n",
      "37\n",
      "38\n",
      "Fizz\n",
      "Buzz\n",
      "41\n",
      "Fizz\n",
      "43\n",
      "44\n",
      "FizzBuzz\n",
      "46\n",
      "47\n",
      "Fizz\n",
      "49\n",
      "Buzz\n",
      "Fizz\n",
      "52\n",
      "53\n",
      "Fizz\n",
      "Buzz\n",
      "56\n",
      "Fizz\n",
      "58\n",
      "59\n",
      "FizzBuzz\n",
      "61\n",
      "62\n",
      "Fizz\n",
      "64\n",
      "Buzz\n",
      "Fizz\n",
      "67\n",
      "68\n",
      "Fizz\n",
      "Buzz\n",
      "71\n",
      "Fizz\n",
      "73\n",
      "74\n",
      "FizzBuzz\n",
      "76\n",
      "77\n",
      "Fizz\n",
      "79\n",
      "Buzz\n",
      "Fizz\n",
      "82\n",
      "83\n",
      "Fizz\n",
      "Buzz\n",
      "86\n",
      "Fizz\n",
      "88\n",
      "89\n",
      "FizzBuzz\n",
      "91\n",
      "92\n",
      "Fizz\n",
      "94\n",
      "Buzz\n",
      "Fizz\n",
      "97\n",
      "98\n",
      "Fizz\n",
      "Buzz\n",
      "101\n",
      "Fizz\n",
      "103\n",
      "104\n",
      "FizzBuzz\n",
      "106\n",
      "107\n",
      "Fizz\n",
      "109\n",
      "Buzz\n"
     ]
    }
   ],
   "source": [
    "for num in range(1,111):\n",
    "    if num%3 == 0 and num%5 == 0:\n",
    "        print('FizzBuzz')\n",
    "    elif num%3 == 0:\n",
    "        print('Fizz')\n",
    "    elif num%5 == 0:\n",
    "        print('Buzz')\n",
    "    else:\n",
    "        print(num)"
   ]
  },
  {
   "cell_type": "markdown",
   "metadata": {},
   "source": [
    "Guessing Game. Accept a guess number and tell us if it's higher or less than the hardcoded number"
   ]
  },
  {
   "cell_type": "code",
   "execution_count": 17,
   "metadata": {},
   "outputs": [
    {
     "name": "stdout",
     "output_type": "stream",
     "text": [
      "Enter number between 1 to 100 to see how correctly you guess\n"
     ]
    },
    {
     "name": "stdin",
     "output_type": "stream",
     "text": [
      " 45\n"
     ]
    },
    {
     "name": "stdout",
     "output_type": "stream",
     "text": [
      "your guessed number is  45\n",
      "your guess is higher than the actual number\n",
      "Actual number randomly selected:  7\n"
     ]
    }
   ],
   "source": [
    "import random\n",
    "num = random.randint(1,101) #random number generation\n",
    "\n",
    "print(\"Enter number between 1 to 100 to see how correctly you guess\")\n",
    "usernum = int(input())\n",
    "\n",
    "print(\"your guessed number is \",usernum)\n",
    "\n",
    "if usernum == num:\n",
    "    print(\"You guessed it right.\")\n",
    "    print(\"Actual number randomly selected: \",num)\n",
    "    \n",
    "elif usernum > num:\n",
    "    print(\"your guess is higher than the actual number\")\n",
    "    print(\"Actual number randomly selected: \",num)\n",
    "    \n",
    "elif usernum < num:\n",
    "    print(\"Your guess is less than the actual number\")\n",
    "    print(\"Actual number randomly selected: \",num)\n",
    "    \n",
    "else:\n",
    "    print(\"wrong Input\")"
   ]
  },
  {
   "cell_type": "markdown",
   "metadata": {},
   "source": [
    "Do a while loop with and without else block getting invoked\n"
   ]
  },
  {
   "cell_type": "code",
   "execution_count": 18,
   "metadata": {},
   "outputs": [
    {
     "name": "stdout",
     "output_type": "stream",
     "text": [
      "4\n",
      "3\n",
      "2\n",
      "1\n",
      "0\n",
      "while loop worked fine so else block invoked\n"
     ]
    }
   ],
   "source": [
    "n = 5\n",
    "while n > 0:\n",
    "    n = n-1\n",
    "    print(n)\n",
    "else:\n",
    "    print(\"while loop worked fine so else block invoked\")"
   ]
  },
  {
   "cell_type": "code",
   "execution_count": 19,
   "metadata": {},
   "outputs": [
    {
     "name": "stdout",
     "output_type": "stream",
     "text": [
      "4\n",
      "3\n"
     ]
    }
   ],
   "source": [
    "n = 5\n",
    "while n > 0:\n",
    "    n = n-1\n",
    "    print(n)\n",
    "    if n == 3:\n",
    "        break\n",
    "else:\n",
    "    print(\"while loop break so else block not invoked\")"
   ]
  },
  {
   "cell_type": "markdown",
   "metadata": {},
   "source": [
    "Do list comprehension to get odd numbers' squares from this list: [1, 3, 3, 4, 5, 6]"
   ]
  },
  {
   "cell_type": "code",
   "execution_count": 20,
   "metadata": {},
   "outputs": [
    {
     "name": "stdout",
     "output_type": "stream",
     "text": [
      "[1, 9, 9, 25]\n"
     ]
    }
   ],
   "source": [
    "l = [ 1, 3, 3, 4, 5, 6 ]\n",
    "odd_squares = [ n * n for n in l if n % 2 != 0 ]\n",
    "print(odd_squares)"
   ]
  },
  {
   "cell_type": "code",
   "execution_count": null,
   "metadata": {},
   "outputs": [],
   "source": []
  }
 ],
 "metadata": {
  "kernelspec": {
   "display_name": "Python 3",
   "language": "python",
   "name": "python3"
  },
  "language_info": {
   "codemirror_mode": {
    "name": "ipython",
    "version": 3
   },
   "file_extension": ".py",
   "mimetype": "text/x-python",
   "name": "python",
   "nbconvert_exporter": "python",
   "pygments_lexer": "ipython3",
   "version": "3.8.3"
  }
 },
 "nbformat": 4,
 "nbformat_minor": 4
}
